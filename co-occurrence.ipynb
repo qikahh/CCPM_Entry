{
 "cells": [
  {
   "cell_type": "code",
   "execution_count": 2,
   "metadata": {},
   "outputs": [],
   "source": [
    "import json\n",
    "from os.path import join\n",
    "import jsonlines\n",
    "def parse(self, response):\n",
    "    jsonresponse=json.loads(response.text)\n",
    "    with jsonlines.open('output.jsonl',mode='a') as writer:\n",
    "        writer.write(jsonresponse)\n",
    "\n",
    "def get_dataset(file_path):\n",
    "    dataset = []\n",
    "    with open(file_path, \"r+\", encoding=\"utf8\") as f:\n",
    "        for item in jsonlines.Reader(f):\n",
    "            dataset.append(item)\n",
    "    return dataset\n",
    "\n",
    "train_data = get_dataset(join('data','train.jsonl'))\n",
    "val_data = get_dataset(join('data','valid.jsonl'))\n",
    "test_data = get_dataset(join('data','test_public.jsonl'))"
   ]
  },
  {
   "cell_type": "code",
   "execution_count": 3,
   "metadata": {},
   "outputs": [],
   "source": [
    "import numpy as np\n",
    "\n",
    "def argmax(scores):\n",
    "    max_score = max(scores)\n",
    "    return [i for i, s in enumerate(scores) if s == max_score]\n",
    "def argmin(scores):\n",
    "    min_id = []\n",
    "    min_score = min(scores)\n",
    "    for i, s in enumerate(scores):\n",
    "        if s == min_score:\n",
    "            min_id.append(i)\n",
    "    return min_id\n",
    "def choice_cooccurrence(choices):\n",
    "    num = len(choices)\n",
    "    choices_return = []\n",
    "    scores = [0] * num\n",
    "    choice_tokens = [[] for _ in range(num)]\n",
    "    for i, choice in enumerate(choices):\n",
    "        choices_return.append(choice)\n",
    "        for c in choice:\n",
    "            if c in choice_tokens[i]:\n",
    "                #assert 1\n",
    "                continue\n",
    "            choice_tokens[i].append(c)\n",
    "    for i in range(num):\n",
    "        for j in range(num):\n",
    "            if i == j:\n",
    "                continue\n",
    "            for c in choice_tokens[i]:\n",
    "                if c in choice_tokens[j]:\n",
    "                    scores[i] += 1\n",
    "    return np.array(scores)\n",
    "    \n",
    "def translation_cooccurrence(translation, choices):\n",
    "    scores = [0] * len(choices)\n",
    "    for i, choice in enumerate(choices):\n",
    "        choice_tokens = []\n",
    "        for c in choice:\n",
    "            if c in choice_tokens:\n",
    "                continue\n",
    "                # assert 1\n",
    "            if c in translation:\n",
    "                scores[i] += 1\n",
    "            choice_tokens.append(c)\n",
    "    return np.array(scores)\n",
    "\n",
    "def position_cooccurrence(translation, choices):\n",
    "    scores = [0] * len(choices)\n",
    "    for i, choice in enumerate(choices):\n",
    "        token_pos = []\n",
    "        for c in choice:\n",
    "            if c in translation:\n",
    "                token_pos.append(translation.index(c))\n",
    "        for j in range(len(token_pos)):\n",
    "            for k in range(j):\n",
    "                if token_pos[k] > token_pos[j]:\n",
    "                    scores[i] += 1\n",
    "        if len(token_pos) > 0:\n",
    "            scores[i] /= len(token_pos)\n",
    "    ids = argmin(scores)\n",
    "    if len(ids) == 0:\n",
    "        a =1\n",
    "    return ids"
   ]
  },
  {
   "cell_type": "code",
   "execution_count": 4,
   "metadata": {},
   "outputs": [
    {
     "name": "stdout",
     "output_type": "stream",
     "text": [
      "0:0/0\n",
      "0:0/0\n",
      "1:2249/2347\n",
      "0.9582445675330209\n",
      "2:251/273\n",
      "0.9194139194139194\n",
      "3:66/70\n",
      "0.9428571428571428\n",
      "4:30/30\n",
      "1.0\n",
      "0.9544117647058824\n"
     ]
    }
   ],
   "source": [
    "wrong_list = [[] for _ in range(5)]\n",
    "muti_list = []\n",
    "nums = [0 for _ in range(5)]\n",
    "acc_nums = [0 for _ in range(5)]\n",
    "acc_num = 0\n",
    "num = 0\n",
    "\n",
    "for e in val_data:\n",
    "    scores_choice_co = choice_cooccurrence(e['choices'])\n",
    "    scores_translation_co = translation_cooccurrence(e['translation'], e['choices'])\n",
    "\n",
    "    scores = scores_choice_co+scores_translation_co\n",
    "    max_score = max(scores)\n",
    "    max_idx = [idx for idx, s in enumerate(scores) if s == max_score]\n",
    "    if scores[e['answer']] == max_score:\n",
    "        acc_nums[len(max_idx)] += 1\n",
    "    else:\n",
    "        wrong_list[len(max_idx)].append((e,max_idx))\n",
    "    nums[len(max_idx)] += 1\n",
    "#print(acc_num/len(val_data))\n",
    "for i in range(5):\n",
    "    print(f'{i}:{acc_nums[i]}/{nums[i]}')\n",
    "    if nums[i] == 0:\n",
    "        print(f'{i}:{0}/{0}')\n",
    "    else:\n",
    "        print(acc_nums[i] / nums[i])\n",
    "print(sum(acc_nums)/sum(nums))\n"
   ]
  },
  {
   "cell_type": "code",
   "execution_count": null,
   "metadata": {},
   "outputs": [],
   "source": []
  },
  {
   "cell_type": "code",
   "execution_count": 5,
   "metadata": {},
   "outputs": [
    {
     "ename": "NameError",
     "evalue": "name 'test_data_new' is not defined",
     "output_type": "error",
     "traceback": [
      "\u001b[0;31m---------------------------------------------------------------------------\u001b[0m",
      "\u001b[0;31mNameError\u001b[0m                                 Traceback (most recent call last)",
      "\u001b[0;32m/tmp/ipykernel_3221/1280694102.py\u001b[0m in \u001b[0;36m<module>\u001b[0;34m\u001b[0m\n\u001b[1;32m      1\u001b[0m \u001b[0;32mwith\u001b[0m \u001b[0mopen\u001b[0m\u001b[0;34m(\u001b[0m\u001b[0;34m'CCPM.jsonl'\u001b[0m\u001b[0;34m,\u001b[0m\u001b[0;34m'w'\u001b[0m\u001b[0;34m,\u001b[0m\u001b[0mencoding\u001b[0m \u001b[0;34m=\u001b[0m \u001b[0;34m'utf-8'\u001b[0m\u001b[0;34m)\u001b[0m \u001b[0;32mas\u001b[0m \u001b[0mjfile\u001b[0m\u001b[0;34m:\u001b[0m\u001b[0;34m\u001b[0m\u001b[0;34m\u001b[0m\u001b[0m\n\u001b[0;32m----> 2\u001b[0;31m     \u001b[0;32mfor\u001b[0m \u001b[0mtest_data\u001b[0m \u001b[0;32min\u001b[0m \u001b[0mtest_data_new\u001b[0m\u001b[0;34m:\u001b[0m\u001b[0;34m\u001b[0m\u001b[0;34m\u001b[0m\u001b[0m\n\u001b[0m\u001b[1;32m      3\u001b[0m         \u001b[0mjfile\u001b[0m\u001b[0;34m.\u001b[0m\u001b[0mwrite\u001b[0m\u001b[0;34m(\u001b[0m\u001b[0mjson\u001b[0m\u001b[0;34m.\u001b[0m\u001b[0mdumps\u001b[0m\u001b[0;34m(\u001b[0m\u001b[0mtest_data\u001b[0m\u001b[0;34m,\u001b[0m \u001b[0mensure_ascii\u001b[0m\u001b[0;34m=\u001b[0m\u001b[0;32mFalse\u001b[0m\u001b[0;34m)\u001b[0m \u001b[0;34m+\u001b[0m \u001b[0;34m'\\n'\u001b[0m\u001b[0;34m)\u001b[0m\u001b[0;34m\u001b[0m\u001b[0;34m\u001b[0m\u001b[0m\n",
      "\u001b[0;31mNameError\u001b[0m: name 'test_data_new' is not defined"
     ]
    }
   ],
   "source": [
    "with open('CCPM.jsonl','w',encoding = 'utf-8') as jfile:\n",
    "    for test_data in test_data_new:\n",
    "        jfile.write(json.dumps(test_data, ensure_ascii=False) + '\\n')"
   ]
  }
 ],
 "metadata": {
  "interpreter": {
   "hash": "edbfbff82cc5a40b1a92271e8866fe127716c5ba884a27844aa7aa39c9a2b64d"
  },
  "kernelspec": {
   "display_name": "Python 3.7.11 64-bit ('ccpm': conda)",
   "language": "python",
   "name": "python3"
  },
  "language_info": {
   "codemirror_mode": {
    "name": "ipython",
    "version": 3
   },
   "file_extension": ".py",
   "mimetype": "text/x-python",
   "name": "python",
   "nbconvert_exporter": "python",
   "pygments_lexer": "ipython3",
   "version": "3.7.11"
  },
  "orig_nbformat": 4
 },
 "nbformat": 4,
 "nbformat_minor": 2
}
